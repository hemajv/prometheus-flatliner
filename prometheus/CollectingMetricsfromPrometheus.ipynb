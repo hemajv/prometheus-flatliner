{
 "cells": [
  {
   "cell_type": "markdown",
   "metadata": {},
   "source": [
    "##  Importing all the libraries"
   ]
  },
  {
   "cell_type": "code",
   "execution_count": 1,
   "metadata": {},
   "outputs": [],
   "source": [
    "import prometheus\n",
    "import os\n",
    "%load_ext dotenv\n",
    "%dotenv"
   ]
  },
  {
   "cell_type": "markdown",
   "metadata": {},
   "source": [
    "## Setting up the connection to scrape metrics from the Thanos instance\n",
    "We need to obtain a session token in order to scrape the required Thanos instance on OpenShift. You can obtain this token value (after having logged in to OpenShift) by executing the following command in your local terminal: $oc whoami -t and setting it as an env variable."
   ]
  },
  {
   "cell_type": "markdown",
   "metadata": {},
   "source": [
    "## Collecting the metrics \n"
   ]
  },
  {
   "cell_type": "code",
   "execution_count": 2,
   "metadata": {},
   "outputs": [],
   "source": [
    "url = os.environ.get(\"THANOS_PROM_URL\")\n",
    "token = os.environ.get(\"PROM_SESSION_TOKEN\")"
   ]
  },
  {
   "cell_type": "code",
   "execution_count": 3,
   "metadata": {},
   "outputs": [],
   "source": [
    "prom = prometheus.Prometheus(url=url, token=token)"
   ]
  },
  {
   "cell_type": "code",
   "execution_count": 4,
   "metadata": {},
   "outputs": [],
   "source": [
    "all_metrics = prom.all_metrics()"
   ]
  },
  {
   "cell_type": "code",
   "execution_count": 5,
   "metadata": {},
   "outputs": [
    {
     "data": {
      "text/plain": [
       "['alerts',\n",
       " 'cluster_operator_conditions',\n",
       " 'cluster_operator_up',\n",
       " 'cluster_version',\n",
       " 'cluster_version_available_updates',\n",
       " 'cluster_version_payload',\n",
       " 'etcd_object_counts',\n",
       " 'machine_cpu_cores',\n",
       " 'machine_memory_bytes',\n",
       " 'scrape_duration_seconds',\n",
       " 'scrape_samples_post_metric_relabeling',\n",
       " 'scrape_samples_scraped',\n",
       " 'up']"
      ]
     },
     "execution_count": 5,
     "metadata": {},
     "output_type": "execute_result"
    }
   ],
   "source": [
    "all_metrics"
   ]
  },
  {
   "cell_type": "code",
   "execution_count": 6,
   "metadata": {},
   "outputs": [
    {
     "name": "stdout",
     "output_type": "stream",
     "text": [
      "Number of metrics present: 13\n"
     ]
    }
   ],
   "source": [
    "print(\"Number of metrics present:\", len(all_metrics))"
   ]
  },
  {
   "cell_type": "markdown",
   "metadata": {},
   "source": [
    "We can fetch the data for a specific metric name based on a particular time frame, duration size and label configurations"
   ]
  },
  {
   "cell_type": "code",
   "execution_count": 30,
   "metadata": {},
   "outputs": [],
   "source": [
    "metric_data = prom.get_metric_range_data(metric_name='etcd_object_counts', start_time='10m', chunk_size='5m')"
   ]
  },
  {
   "cell_type": "code",
   "execution_count": 31,
   "metadata": {},
   "outputs": [
    {
     "data": {
      "text/plain": [
       "160433"
      ]
     },
     "execution_count": 31,
     "metadata": {},
     "output_type": "execute_result"
    }
   ],
   "source": [
    "len(metric_data)"
   ]
  },
  {
   "cell_type": "code",
   "execution_count": 32,
   "metadata": {},
   "outputs": [
    {
     "data": {
      "text/plain": [
       "dict_keys(['metric', 'values'])"
      ]
     },
     "execution_count": 32,
     "metadata": {},
     "output_type": "execute_result"
    }
   ],
   "source": [
    "#Exploring one among all the metrics collected\n",
    "metric_data[0].keys()"
   ]
  },
  {
   "cell_type": "code",
   "execution_count": 33,
   "metadata": {},
   "outputs": [],
   "source": [
    "metadata = metric_data[0].get(\"metric\")"
   ]
  },
  {
   "cell_type": "code",
   "execution_count": 34,
   "metadata": {},
   "outputs": [
    {
     "data": {
      "text/plain": [
       "{'__name__': 'etcd_object_counts',\n",
       " '_id': '00725312-cfc1-4acc-a968-9a15909fefa0',\n",
       " 'endpoint': 'https',\n",
       " 'instance': '10.0.134.228:6443',\n",
       " 'job': 'apiserver',\n",
       " 'monitor': 'prometheus',\n",
       " 'namespace': 'default',\n",
       " 'pod': 'telemeter-server-3',\n",
       " 'prometheus': 'openshift-monitoring/k8s',\n",
       " 'prometheus_replica': 'prometheus-k8s-1',\n",
       " 'replica': '$(HOSTNAME)',\n",
       " 'resource': 'apiservers.config.openshift.io',\n",
       " 'service': 'kubernetes'}"
      ]
     },
     "execution_count": 34,
     "metadata": {},
     "output_type": "execute_result"
    }
   ],
   "source": [
    "metadata"
   ]
  },
  {
   "cell_type": "code",
   "execution_count": 35,
   "metadata": {},
   "outputs": [
    {
     "name": "stdout",
     "output_type": "stream",
     "text": [
      "Number of labels identified: 13\n"
     ]
    }
   ],
   "source": [
    "#Obtaining the labels of the metric\n",
    "labels = list(metadata.keys())\n",
    "print(\"Number of labels identified:\", len(labels))"
   ]
  },
  {
   "cell_type": "code",
   "execution_count": 36,
   "metadata": {},
   "outputs": [
    {
     "data": {
      "text/plain": [
       "['__name__',\n",
       " '_id',\n",
       " 'endpoint',\n",
       " 'instance',\n",
       " 'job',\n",
       " 'monitor',\n",
       " 'namespace',\n",
       " 'pod',\n",
       " 'prometheus',\n",
       " 'prometheus_replica',\n",
       " 'replica',\n",
       " 'resource',\n",
       " 'service']"
      ]
     },
     "execution_count": 36,
     "metadata": {},
     "output_type": "execute_result"
    }
   ],
   "source": [
    "labels"
   ]
  },
  {
   "cell_type": "code",
   "execution_count": 37,
   "metadata": {},
   "outputs": [
    {
     "data": {
      "text/plain": [
       "[[1552676388.975, '0']]"
      ]
     },
     "execution_count": 37,
     "metadata": {},
     "output_type": "execute_result"
    }
   ],
   "source": [
    "#Obtaining the metric values\n",
    "metric_values = metric_data[0].get('values')\n",
    "metric_values"
   ]
  },
  {
   "cell_type": "code",
   "execution_count": null,
   "metadata": {},
   "outputs": [],
   "source": []
  },
  {
   "cell_type": "code",
   "execution_count": null,
   "metadata": {},
   "outputs": [],
   "source": []
  }
 ],
 "metadata": {
  "kernelspec": {
   "display_name": "Python 3",
   "language": "python",
   "name": "python3"
  },
  "language_info": {
   "codemirror_mode": {
    "name": "ipython",
    "version": 3
   },
   "file_extension": ".py",
   "mimetype": "text/x-python",
   "name": "python",
   "nbconvert_exporter": "python",
   "pygments_lexer": "ipython3",
   "version": "3.7.2"
  }
 },
 "nbformat": 4,
 "nbformat_minor": 2
}
